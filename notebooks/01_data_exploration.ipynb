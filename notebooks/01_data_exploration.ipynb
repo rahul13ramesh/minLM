{
 "cells": [
  {
   "cell_type": "code",
   "execution_count": 1,
   "id": "54b21b31-82ca-4b8b-8a7b-f0b640b51a17",
   "metadata": {},
   "outputs": [],
   "source": [
    "import sys\n",
    "sys.path.append(\"..\")"
   ]
  },
  {
   "cell_type": "code",
   "execution_count": 2,
   "id": "de2a3ae2-6990-4505-9f63-85aa96646423",
   "metadata": {},
   "outputs": [],
   "source": [
    "%load_ext autoreload\n",
    "%autoreload 2"
   ]
  },
  {
   "cell_type": "code",
   "execution_count": 3,
   "id": "99b5fd1b-55a3-46a3-8c41-d6b7a859df66",
   "metadata": {},
   "outputs": [],
   "source": [
    "from utils.data import wikitext103_loader\n",
    "from omegaconf import OmegaConf\n",
    "\n",
    "import torch\n",
    "import numpy as np"
   ]
  },
  {
   "cell_type": "code",
   "execution_count": 4,
   "id": "4b3ec455-f452-48bd-a593-acbc73bc6b0a",
   "metadata": {},
   "outputs": [],
   "source": [
    "cfg = OmegaConf.load('../config/conf.yaml')"
   ]
  },
  {
   "cell_type": "code",
   "execution_count": 5,
   "id": "be7fd702-4b70-488a-bad9-b505a5d7ff70",
   "metadata": {},
   "outputs": [
    {
     "data": {
      "text/plain": [
       "{'deploy': False, 'tag': 'minLM_run1', 'seed': 0, 'device': 'cuda:0', 'epochs': 50, 'data': {'bs': 32, 'tokenizer': 'openai-community/gpt2', 'subsample': 0.01}, 'net': {'compile': True, 'vocab_size': 512, 'context_size': 256, 'n_layer': 12, 'n_head': 12, 'n_embd': 120, 'dropout': 0.0, 'bias': False}, 'optimizer': {'learning_rate': 0.0003, 'weight_decay': 0.1, 'beta1': 0.9, 'beta2': 0.95, 'grad_clip': 1.0, 'decay_lr': True, 'min_lr': 3e-05}, 'log': {'eval_interval': 200, 'log_interval': 10}, 'defaults': ['_self_', {'override hydra/job_logging': 'disabled'}, {'override hydra/hydra_logging': 'disabled'}], 'hydra': {'output_subdir': None, 'job': {'chdir': False}, 'run': {'dir': '.'}, 'sweep': {'dir': '.', 'subdir': '.'}}}"
      ]
     },
     "execution_count": 5,
     "metadata": {},
     "output_type": "execute_result"
    }
   ],
   "source": [
    "cfg"
   ]
  },
  {
   "cell_type": "code",
   "execution_count": 6,
   "id": "71d7a702-047c-4fe6-970a-8aef011b1192",
   "metadata": {},
   "outputs": [],
   "source": [
    "cfg.data.subsample = 0.01\n",
    "cfg.net.context_size = 1024"
   ]
  },
  {
   "cell_type": "code",
   "execution_count": 7,
   "id": "a4f3bc59-fae6-4060-abde-5afdb1392209",
   "metadata": {},
   "outputs": [
    {
     "name": "stderr",
     "output_type": "stream",
     "text": [
      "/Users/rahul/micromamba/envs/incontext/lib/python3.10/site-packages/transformers/tokenization_utils_base.py:1601: FutureWarning: `clean_up_tokenization_spaces` was not set. It will be set to `True` by default. This behavior will be depracted in transformers v4.45, and will be then set to `False` by default. For more details check this issue: https://github.com/huggingface/transformers/issues/31884\n",
      "  warnings.warn(\n"
     ]
    },
    {
     "data": {
      "application/vnd.jupyter.widget-view+json": {
       "model_id": "3bc5d3ec90a846668a58e347ddc13577",
       "version_major": 2,
       "version_minor": 0
      },
      "text/plain": [
       "Filter:   0%|          | 0/8531 [00:00<?, ? examples/s]"
      ]
     },
     "metadata": {},
     "output_type": "display_data"
    }
   ],
   "source": [
    "trainloader = wikitext103_loader(cfg, train=True)"
   ]
  },
  {
   "cell_type": "markdown",
   "id": "f85b3af8-c48e-4169-9643-e0448366dcaa",
   "metadata": {},
   "source": [
    "# Analyze lengths"
   ]
  },
  {
   "cell_type": "code",
   "execution_count": 8,
   "id": "953adaf4-ae20-48ee-bc40-8e2910ee1540",
   "metadata": {},
   "outputs": [],
   "source": [
    "lns = []\n",
    "for dat in trainloader:\n",
    "    dat = dat['input_ids']\n",
    "    lns.append(torch.argmax((dat == 50256).float(), dim=1).numpy())\n",
    "lns = np.concatenate(lns)\n",
    "\n",
    "lns[lns == 0] = cfg.net.context_size"
   ]
  },
  {
   "cell_type": "code",
   "execution_count": 9,
   "id": "330f09ed-396d-4ece-aba1-8f217d0de603",
   "metadata": {},
   "outputs": [],
   "source": [
    "import seaborn as sns\n",
    "import matplotlib.pyplot as plt"
   ]
  },
  {
   "cell_type": "code",
   "execution_count": 10,
   "id": "f6a1b4fc-7cec-4adf-aeac-bcbd36e7a517",
   "metadata": {},
   "outputs": [
    {
     "name": "stderr",
     "output_type": "stream",
     "text": [
      "/Users/rahul/micromamba/envs/incontext/lib/python3.10/site-packages/seaborn/_oldcore.py:1498: FutureWarning: is_categorical_dtype is deprecated and will be removed in a future version. Use isinstance(dtype, CategoricalDtype) instead\n",
      "  if pd.api.types.is_categorical_dtype(vector):\n",
      "/Users/rahul/micromamba/envs/incontext/lib/python3.10/site-packages/seaborn/_oldcore.py:1119: FutureWarning: use_inf_as_na option is deprecated and will be removed in a future version. Convert inf values to NaN before operating instead.\n",
      "  with pd.option_context('mode.use_inf_as_na', True):\n"
     ]
    },
    {
     "data": {
      "image/png": "[encoded data removed]",
      "text/plain": [
       "<Figure size 640x480 with 1 Axes>"
      ]
     },
     "metadata": {},
     "output_type": "display_data"
    }
   ],
   "source": [
    "sns.histplot(lns)\n",
    "plt.xlim([0, 500])\n",
    "plt.xlabel(\"No. of tokens per sequence\")\n",
    "plt.savefig(\"./figures/01_numtokens.pdf\", bbox_inches=\"tight\")\n",
    "plt.show()"
   ]
  },
  {
   "cell_type": "code",
   "execution_count": 12,
   "id": "d155f4d3-61ed-474f-9400-7f2cc0cce9dc",
   "metadata": {},
   "outputs": [
    {
     "name": "stdout",
     "output_type": "stream",
     "text": [
      "21\n",
      "796\n",
      "137.0\n",
      "149.05043685464653\n"
     ]
    }
   ],
   "source": [
    "print(np.min(lns))\n",
    "print(np.max(lns))\n",
    "print(np.median(lns))\n",
    "print(np.mean(lns))"
   ]
  },
  {
   "cell_type": "code",
   "execution_count": 13,
   "id": "2d28087b-ed0c-4c82-ba48-6c758b7df9b9",
   "metadata": {},
   "outputs": [],
   "source": [
    "ind = np.where(lns == 3)[0]"
   ]
  },
  {
   "cell_type": "code",
   "execution_count": 14,
   "id": "9fdede21-ef70-46da-bd09-f97abda0ec77",
   "metadata": {},
   "outputs": [
    {
     "data": {
      "text/plain": [
       "0"
      ]
     },
     "execution_count": 14,
     "metadata": {},
     "output_type": "execute_result"
    }
   ],
   "source": [
    "len(ind)"
   ]
  },
  {
   "cell_type": "code",
   "execution_count": 15,
   "id": "db13eb2a-9b5f-4883-b25a-802ad6c63df7",
   "metadata": {},
   "outputs": [
    {
     "name": "stderr",
     "output_type": "stream",
     "text": [
      "/Users/rahul/micromamba/envs/incontext/lib/python3.10/site-packages/transformers/tokenization_utils_base.py:1601: FutureWarning: `clean_up_tokenization_spaces` was not set. It will be set to `True` by default. This behavior will be depracted in transformers v4.45, and will be then set to `False` by default. For more details check this issue: https://github.com/huggingface/transformers/issues/31884\n",
      "  warnings.warn(\n"
     ]
    }
   ],
   "source": [
    "from transformers import AutoTokenizer\n",
    "\n",
    "tokenizer = AutoTokenizer.from_pretrained(cfg.data.tokenizer)\n",
    "tokenizer.pad_token = tokenizer.eos_token"
   ]
  },
  {
   "cell_type": "code",
   "execution_count": 16,
   "id": "a3a2f439-bfb1-45dc-bfcb-18bfcfc67cb9",
   "metadata": {},
   "outputs": [],
   "source": [
    "small = []\n",
    "for dat in trainloader:\n",
    "    dat = dat['input_ids']\n",
    "    cln = torch.argmax((dat == 50256).float(), dim=1).numpy()\n",
    "\n",
    "    ind = np.where(cln <= 10)[0]\n",
    "    small.append(dat[ind].numpy())"
   ]
  },
  {
   "cell_type": "code",
   "execution_count": 17,
   "id": "948cb91c-4634-44a5-9fea-ad7664d2d18f",
   "metadata": {},
   "outputs": [
    {
     "data": {
      "text/plain": [
       "[array([], shape=(0, 1024), dtype=int64),\n",
       " array([], shape=(0, 1024), dtype=int64),\n",
       " array([], shape=(0, 1024), dtype=int64),\n",
       " array([], shape=(0, 1024), dtype=int64),\n",
       " array([], shape=(0, 1024), dtype=int64),\n",
       " array([], shape=(0, 1024), dtype=int64),\n",
       " array([], shape=(0, 1024), dtype=int64),\n",
       " array([], shape=(0, 1024), dtype=int64),\n",
       " array([], shape=(0, 1024), dtype=int64),\n",
       " array([], shape=(0, 1024), dtype=int64),\n",
       " array([], shape=(0, 1024), dtype=int64),\n",
       " array([], shape=(0, 1024), dtype=int64),\n",
       " array([], shape=(0, 1024), dtype=int64),\n",
       " array([], shape=(0, 1024), dtype=int64),\n",
       " array([], shape=(0, 1024), dtype=int64),\n",
       " array([], shape=(0, 1024), dtype=int64),\n",
       " array([], shape=(0, 1024), dtype=int64),\n",
       " array([], shape=(0, 1024), dtype=int64),\n",
       " array([], shape=(0, 1024), dtype=int64),\n",
       " array([], shape=(0, 1024), dtype=int64),\n",
       " array([], shape=(0, 1024), dtype=int64),\n",
       " array([], shape=(0, 1024), dtype=int64),\n",
       " array([], shape=(0, 1024), dtype=int64),\n",
       " array([], shape=(0, 1024), dtype=int64),\n",
       " array([], shape=(0, 1024), dtype=int64),\n",
       " array([], shape=(0, 1024), dtype=int64),\n",
       " array([], shape=(0, 1024), dtype=int64),\n",
       " array([], shape=(0, 1024), dtype=int64),\n",
       " array([], shape=(0, 1024), dtype=int64),\n",
       " array([], shape=(0, 1024), dtype=int64),\n",
       " array([], shape=(0, 1024), dtype=int64),\n",
       " array([], shape=(0, 1024), dtype=int64),\n",
       " array([], shape=(0, 1024), dtype=int64),\n",
       " array([], shape=(0, 1024), dtype=int64),\n",
       " array([], shape=(0, 1024), dtype=int64),\n",
       " array([], shape=(0, 1024), dtype=int64),\n",
       " array([], shape=(0, 1024), dtype=int64),\n",
       " array([], shape=(0, 1024), dtype=int64),\n",
       " array([], shape=(0, 1024), dtype=int64),\n",
       " array([], shape=(0, 1024), dtype=int64),\n",
       " array([], shape=(0, 1024), dtype=int64),\n",
       " array([], shape=(0, 1024), dtype=int64),\n",
       " array([], shape=(0, 1024), dtype=int64),\n",
       " array([], shape=(0, 1024), dtype=int64),\n",
       " array([], shape=(0, 1024), dtype=int64),\n",
       " array([], shape=(0, 1024), dtype=int64),\n",
       " array([], shape=(0, 1024), dtype=int64),\n",
       " array([], shape=(0, 1024), dtype=int64),\n",
       " array([], shape=(0, 1024), dtype=int64),\n",
       " array([], shape=(0, 1024), dtype=int64),\n",
       " array([], shape=(0, 1024), dtype=int64),\n",
       " array([], shape=(0, 1024), dtype=int64),\n",
       " array([], shape=(0, 1024), dtype=int64),\n",
       " array([], shape=(0, 1024), dtype=int64),\n",
       " array([], shape=(0, 1024), dtype=int64),\n",
       " array([], shape=(0, 1024), dtype=int64),\n",
       " array([], shape=(0, 1024), dtype=int64),\n",
       " array([], shape=(0, 1024), dtype=int64),\n",
       " array([], shape=(0, 1024), dtype=int64),\n",
       " array([], shape=(0, 1024), dtype=int64),\n",
       " array([], shape=(0, 1024), dtype=int64),\n",
       " array([], shape=(0, 1024), dtype=int64),\n",
       " array([], shape=(0, 1024), dtype=int64),\n",
       " array([], shape=(0, 1024), dtype=int64),\n",
       " array([], shape=(0, 1024), dtype=int64),\n",
       " array([], shape=(0, 1024), dtype=int64),\n",
       " array([], shape=(0, 1024), dtype=int64),\n",
       " array([], shape=(0, 1024), dtype=int64),\n",
       " array([], shape=(0, 1024), dtype=int64),\n",
       " array([], shape=(0, 1024), dtype=int64),\n",
       " array([], shape=(0, 1024), dtype=int64),\n",
       " array([], shape=(0, 1024), dtype=int64),\n",
       " array([], shape=(0, 1024), dtype=int64),\n",
       " array([], shape=(0, 1024), dtype=int64),\n",
       " array([], shape=(0, 1024), dtype=int64),\n",
       " array([], shape=(0, 1024), dtype=int64),\n",
       " array([], shape=(0, 1024), dtype=int64),\n",
       " array([], shape=(0, 1024), dtype=int64),\n",
       " array([], shape=(0, 1024), dtype=int64),\n",
       " array([], shape=(0, 1024), dtype=int64),\n",
       " array([], shape=(0, 1024), dtype=int64),\n",
       " array([], shape=(0, 1024), dtype=int64),\n",
       " array([], shape=(0, 1024), dtype=int64),\n",
       " array([], shape=(0, 1024), dtype=int64),\n",
       " array([], shape=(0, 1024), dtype=int64),\n",
       " array([], shape=(0, 1024), dtype=int64),\n",
       " array([], shape=(0, 1024), dtype=int64),\n",
       " array([], shape=(0, 1024), dtype=int64),\n",
       " array([], shape=(0, 1024), dtype=int64),\n",
       " array([], shape=(0, 1024), dtype=int64),\n",
       " array([], shape=(0, 1024), dtype=int64),\n",
       " array([], shape=(0, 1024), dtype=int64),\n",
       " array([], shape=(0, 1024), dtype=int64),\n",
       " array([], shape=(0, 1024), dtype=int64),\n",
       " array([], shape=(0, 1024), dtype=int64),\n",
       " array([], shape=(0, 1024), dtype=int64),\n",
       " array([], shape=(0, 1024), dtype=int64),\n",
       " array([], shape=(0, 1024), dtype=int64),\n",
       " array([], shape=(0, 1024), dtype=int64),\n",
       " array([], shape=(0, 1024), dtype=int64),\n",
       " array([], shape=(0, 1024), dtype=int64),\n",
       " array([], shape=(0, 1024), dtype=int64),\n",
       " array([], shape=(0, 1024), dtype=int64),\n",
       " array([], shape=(0, 1024), dtype=int64),\n",
       " array([], shape=(0, 1024), dtype=int64),\n",
       " array([], shape=(0, 1024), dtype=int64),\n",
       " array([], shape=(0, 1024), dtype=int64),\n",
       " array([], shape=(0, 1024), dtype=int64),\n",
       " array([], shape=(0, 1024), dtype=int64),\n",
       " array([], shape=(0, 1024), dtype=int64),\n",
       " array([], shape=(0, 1024), dtype=int64),\n",
       " array([], shape=(0, 1024), dtype=int64),\n",
       " array([], shape=(0, 1024), dtype=int64),\n",
       " array([], shape=(0, 1024), dtype=int64),\n",
       " array([], shape=(0, 1024), dtype=int64),\n",
       " array([], shape=(0, 1024), dtype=int64),\n",
       " array([], shape=(0, 1024), dtype=int64),\n",
       " array([], shape=(0, 1024), dtype=int64),\n",
       " array([], shape=(0, 1024), dtype=int64),\n",
       " array([], shape=(0, 1024), dtype=int64),\n",
       " array([], shape=(0, 1024), dtype=int64),\n",
       " array([], shape=(0, 1024), dtype=int64),\n",
       " array([], shape=(0, 1024), dtype=int64),\n",
       " array([], shape=(0, 1024), dtype=int64),\n",
       " array([], shape=(0, 1024), dtype=int64),\n",
       " array([], shape=(0, 1024), dtype=int64),\n",
       " array([], shape=(0, 1024), dtype=int64),\n",
       " array([], shape=(0, 1024), dtype=int64),\n",
       " array([], shape=(0, 1024), dtype=int64),\n",
       " array([], shape=(0, 1024), dtype=int64),\n",
       " array([], shape=(0, 1024), dtype=int64),\n",
       " array([], shape=(0, 1024), dtype=int64),\n",
       " array([], shape=(0, 1024), dtype=int64),\n",
       " array([], shape=(0, 1024), dtype=int64),\n",
       " array([], shape=(0, 1024), dtype=int64),\n",
       " array([], shape=(0, 1024), dtype=int64),\n",
       " array([], shape=(0, 1024), dtype=int64),\n",
       " array([], shape=(0, 1024), dtype=int64),\n",
       " array([], shape=(0, 1024), dtype=int64),\n",
       " array([], shape=(0, 1024), dtype=int64),\n",
       " array([], shape=(0, 1024), dtype=int64),\n",
       " array([], shape=(0, 1024), dtype=int64),\n",
       " array([], shape=(0, 1024), dtype=int64),\n",
       " array([], shape=(0, 1024), dtype=int64),\n",
       " array([], shape=(0, 1024), dtype=int64),\n",
       " array([], shape=(0, 1024), dtype=int64),\n",
       " array([], shape=(0, 1024), dtype=int64),\n",
       " array([], shape=(0, 1024), dtype=int64),\n",
       " array([], shape=(0, 1024), dtype=int64),\n",
       " array([], shape=(0, 1024), dtype=int64),\n",
       " array([], shape=(0, 1024), dtype=int64),\n",
       " array([], shape=(0, 1024), dtype=int64),\n",
       " array([], shape=(0, 1024), dtype=int64),\n",
       " array([], shape=(0, 1024), dtype=int64),\n",
       " array([], shape=(0, 1024), dtype=int64),\n",
       " array([], shape=(0, 1024), dtype=int64),\n",
       " array([], shape=(0, 1024), dtype=int64),\n",
       " array([], shape=(0, 1024), dtype=int64),\n",
       " array([], shape=(0, 1024), dtype=int64),\n",
       " array([], shape=(0, 1024), dtype=int64),\n",
       " array([], shape=(0, 1024), dtype=int64),\n",
       " array([], shape=(0, 1024), dtype=int64),\n",
       " array([], shape=(0, 1024), dtype=int64),\n",
       " array([], shape=(0, 1024), dtype=int64),\n",
       " array([], shape=(0, 1024), dtype=int64),\n",
       " array([], shape=(0, 1024), dtype=int64),\n",
       " array([], shape=(0, 1024), dtype=int64),\n",
       " array([], shape=(0, 1024), dtype=int64),\n",
       " array([], shape=(0, 1024), dtype=int64),\n",
       " array([], shape=(0, 1024), dtype=int64),\n",
       " array([], shape=(0, 1024), dtype=int64),\n",
       " array([], shape=(0, 1024), dtype=int64),\n",
       " array([], shape=(0, 1024), dtype=int64),\n",
       " array([], shape=(0, 1024), dtype=int64),\n",
       " array([], shape=(0, 1024), dtype=int64),\n",
       " array([], shape=(0, 1024), dtype=int64),\n",
       " array([], shape=(0, 1024), dtype=int64),\n",
       " array([], shape=(0, 1024), dtype=int64),\n",
       " array([], shape=(0, 1024), dtype=int64),\n",
       " array([], shape=(0, 1024), dtype=int64),\n",
       " array([], shape=(0, 1024), dtype=int64),\n",
       " array([], shape=(0, 1024), dtype=int64),\n",
       " array([], shape=(0, 1024), dtype=int64),\n",
       " array([], shape=(0, 1024), dtype=int64),\n",
       " array([], shape=(0, 1024), dtype=int64),\n",
       " array([], shape=(0, 1024), dtype=int64),\n",
       " array([], shape=(0, 1024), dtype=int64),\n",
       " array([], shape=(0, 1024), dtype=int64),\n",
       " array([], shape=(0, 1024), dtype=int64),\n",
       " array([], shape=(0, 1024), dtype=int64),\n",
       " array([], shape=(0, 1024), dtype=int64),\n",
       " array([], shape=(0, 1024), dtype=int64),\n",
       " array([], shape=(0, 1024), dtype=int64),\n",
       " array([], shape=(0, 1024), dtype=int64),\n",
       " array([], shape=(0, 1024), dtype=int64),\n",
       " array([], shape=(0, 1024), dtype=int64),\n",
       " array([], shape=(0, 1024), dtype=int64),\n",
       " array([], shape=(0, 1024), dtype=int64),\n",
       " array([], shape=(0, 1024), dtype=int64),\n",
       " array([], shape=(0, 1024), dtype=int64),\n",
       " array([], shape=(0, 1024), dtype=int64),\n",
       " array([], shape=(0, 1024), dtype=int64),\n",
       " array([], shape=(0, 1024), dtype=int64),\n",
       " array([], shape=(0, 1024), dtype=int64),\n",
       " array([], shape=(0, 1024), dtype=int64),\n",
       " array([], shape=(0, 1024), dtype=int64),\n",
       " array([], shape=(0, 1024), dtype=int64),\n",
       " array([], shape=(0, 1024), dtype=int64),\n",
       " array([], shape=(0, 1024), dtype=int64),\n",
       " array([], shape=(0, 1024), dtype=int64),\n",
       " array([], shape=(0, 1024), dtype=int64),\n",
       " array([], shape=(0, 1024), dtype=int64),\n",
       " array([], shape=(0, 1024), dtype=int64),\n",
       " array([], shape=(0, 1024), dtype=int64),\n",
       " array([], shape=(0, 1024), dtype=int64),\n",
       " array([], shape=(0, 1024), dtype=int64),\n",
       " array([], shape=(0, 1024), dtype=int64),\n",
       " array([], shape=(0, 1024), dtype=int64),\n",
       " array([], shape=(0, 1024), dtype=int64),\n",
       " array([], shape=(0, 1024), dtype=int64),\n",
       " array([], shape=(0, 1024), dtype=int64),\n",
       " array([], shape=(0, 1024), dtype=int64),\n",
       " array([], shape=(0, 1024), dtype=int64),\n",
       " array([], shape=(0, 1024), dtype=int64),\n",
       " array([], shape=(0, 1024), dtype=int64),\n",
       " array([], shape=(0, 1024), dtype=int64),\n",
       " array([], shape=(0, 1024), dtype=int64),\n",
       " array([], shape=(0, 1024), dtype=int64),\n",
       " array([], shape=(0, 1024), dtype=int64),\n",
       " array([], shape=(0, 1024), dtype=int64),\n",
       " array([], shape=(0, 1024), dtype=int64),\n",
       " array([], shape=(0, 1024), dtype=int64),\n",
       " array([], shape=(0, 1024), dtype=int64),\n",
       " array([], shape=(0, 1024), dtype=int64),\n",
       " array([], shape=(0, 1024), dtype=int64),\n",
       " array([], shape=(0, 1024), dtype=int64),\n",
       " array([], shape=(0, 1024), dtype=int64)]"
      ]
     },
     "execution_count": 17,
     "metadata": {},
     "output_type": "execute_result"
    }
   ],
   "source": [
    "small"
   ]
  },
  {
   "cell_type": "code",
   "execution_count": 18,
   "id": "2c796ce1-6256-4437-b24a-973068d02040",
   "metadata": {},
   "outputs": [],
   "source": [
    "small = np.concatenate(small)"
   ]
  },
  {
   "cell_type": "code",
   "execution_count": 19,
   "id": "c18fb2bd-46fa-40f4-81ce-bdf4ebed864b",
   "metadata": {
    "scrolled": true
   },
   "outputs": [],
   "source": [
    "for i in range(len(small)):\n",
    "    ind =  np.where(small[i] == 50256)[0][0]\n",
    "    txt = small[i][:ind]\n",
    "    print(ind, tokenizer.decode(txt).strip())"
   ]
  },
  {
   "cell_type": "code",
   "execution_count": null,
   "id": "27a8727e-6a23-4310-88cd-a469b59d4a10",
   "metadata": {},
   "outputs": [],
   "source": []
  }
 ],
 "metadata": {
  "kernelspec": {
   "display_name": "Python 3 (ipykernel)",
   "language": "python",
   "name": "python3"
  },
  "language_info": {
   "codemirror_mode": {
    "name": "ipython",
    "version": 3
   },
   "file_extension": ".py",
   "mimetype": "text/x-python",
   "name": "python",
   "nbconvert_exporter": "python",
   "pygments_lexer": "ipython3",
   "version": "3.10.12"
  }
 },
 "nbformat": 4,
 "nbformat_minor": 5
}
